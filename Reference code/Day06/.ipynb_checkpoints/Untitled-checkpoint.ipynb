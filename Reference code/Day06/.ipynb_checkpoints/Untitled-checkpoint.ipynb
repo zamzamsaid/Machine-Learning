{
 "cells": [
  {
   "cell_type": "code",
   "execution_count": 1,
   "id": "66af4fcc-69a2-4303-b182-51386a6d906f",
   "metadata": {},
   "outputs": [],
   "source": [
    "import numpy as np\n",
    "import pandas as pd"
   ]
  },
  {
   "cell_type": "code",
   "execution_count": 2,
   "id": "57c857ad-344a-4443-9c21-019c3e7fadee",
   "metadata": {},
   "outputs": [],
   "source": [
    "X = np.array([1, 2, 3, 4])\n",
    "y = np.array([5, 7, 9, 11])"
   ]
  },
  {
   "cell_type": "code",
   "execution_count": 3,
   "id": "1ae11661-77b7-406b-af2b-e9ef7ecefe0b",
   "metadata": {},
   "outputs": [],
   "source": [
    "split_point = 2.5"
   ]
  },
  {
   "cell_type": "code",
   "execution_count": null,
   "id": "f4b7a818-a9cc-4c7a-b993-a6d27490b22c",
   "metadata": {},
   "outputs": [],
   "source": []
  },
  {
   "cell_type": "code",
   "execution_count": 4,
   "id": "94250813-79ed-4a6f-ac9e-8780da392975",
   "metadata": {},
   "outputs": [],
   "source": [
    "left_mean = np.mean(y[X <= split_point]) \n",
    "right_mean = np.mean(y[X > split_point]) "
   ]
  },
  {
   "cell_type": "code",
   "execution_count": null,
   "id": "445168f1-b601-4717-a125-b26ae1ad06a5",
   "metadata": {},
   "outputs": [],
   "source": []
  },
  {
   "cell_type": "code",
   "execution_count": 5,
   "id": "ea47570c-e256-42e9-9650-84b9819cc36c",
   "metadata": {},
   "outputs": [],
   "source": [
    "left_mse = np.mean((y[X <= split_point] - left_mean) ** 2)\n",
    "right_mse = np.mean((y[X > split_point] - right_mean) ** 2)"
   ]
  },
  {
   "cell_type": "code",
   "execution_count": 6,
   "id": "0d763a9e-3e99-488e-801a-4dd56f247f39",
   "metadata": {},
   "outputs": [
    {
     "data": {
      "text/plain": [
       "(1.0, 1.0)"
      ]
     },
     "execution_count": 6,
     "metadata": {},
     "output_type": "execute_result"
    }
   ],
   "source": [
    "left_mse, right_mse"
   ]
  },
  {
   "cell_type": "code",
   "execution_count": 8,
   "id": "459b6213-165c-4b09-bb5c-d8f13d3d69e9",
   "metadata": {},
   "outputs": [
    {
     "data": {
      "text/plain": [
       "1.0"
      ]
     },
     "execution_count": 8,
     "metadata": {},
     "output_type": "execute_result"
    }
   ],
   "source": [
    "np.mean([left_mse, right_mse])"
   ]
  },
  {
   "cell_type": "code",
   "execution_count": null,
   "id": "ed9d383b-bb22-4c09-a23c-f86d2da01fbc",
   "metadata": {},
   "outputs": [],
   "source": []
  }
 ],
 "metadata": {
  "kernelspec": {
   "display_name": "(00) Python 3.9 - ML",
   "language": "python",
   "name": "py39_ml"
  },
  "language_info": {
   "codemirror_mode": {
    "name": "ipython",
    "version": 3
   },
   "file_extension": ".py",
   "mimetype": "text/x-python",
   "name": "python",
   "nbconvert_exporter": "python",
   "pygments_lexer": "ipython3",
   "version": "3.9.23"
  }
 },
 "nbformat": 4,
 "nbformat_minor": 5
}
