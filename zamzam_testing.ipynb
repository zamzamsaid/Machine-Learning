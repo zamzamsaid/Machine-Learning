{
 "cells": [
  {
   "cell_type": "code",
   "execution_count": null,
   "id": "55daca4f-f286-4cbb-af32-87d0ded6590f",
   "metadata": {},
   "outputs": [],
   "source": []
  }
 ],
 "metadata": {
  "kernelspec": {
   "display_name": "(00) Python 3.9 - ML",
   "language": "python",
   "name": "py39_ml"
  },
  "language_info": {
   "codemirror_mode": {
    "name": "ipython",
    "version": 3
   },
   "file_extension": ".py",
   "mimetype": "text/x-python",
   "name": "python",
   "nbconvert_exporter": "python",
   "pygments_lexer": "ipython3",
   "version": "3.9.23"
  }
 },
 "nbformat": 4,
 "nbformat_minor": 5
}
